{
 "cells": [
  {
   "cell_type": "code",
   "execution_count": 1,
   "metadata": {},
   "outputs": [
    {
     "name": "stderr",
     "output_type": "stream",
     "text": [
      "/home/javimp2003/LangChain & Vector Databases in Production/venv/lib/python3.10/site-packages/deeplake/util/check_latest_version.py:32: UserWarning: A newer version of deeplake (3.9.18) is available. It's recommended that you update to the latest version using `pip install -U deeplake`.\n",
      "  warnings.warn(\n"
     ]
    }
   ],
   "source": [
    "from langchain.llms import OpenAI\n",
    "from langchain.agents import Tool\n",
    "from langchain.utilities import GoogleSearchAPIWrapper\n",
    "from langchain.prompts import PromptTemplate\n",
    "from langchain.chains import LLMChain\n",
    "from langchain.agents import initialize_agent, AgentType"
   ]
  },
  {
   "cell_type": "code",
   "execution_count": 2,
   "metadata": {},
   "outputs": [
    {
     "name": "stdout",
     "output_type": "stream",
     "text": [
      "Environment variables set successfully.\n"
     ]
    }
   ],
   "source": [
    "import os\n",
    "\n",
    "# Initialize variables to store the API keys\n",
    "google_api_key = None\n",
    "google_cse_id = None\n",
    "\n",
    "# Read the API keys from the file\n",
    "with open('APIkeys.txt', 'r') as file:\n",
    "    for line in file:\n",
    "        if line.startswith('google_api:'):\n",
    "            google_api_key = line.strip().split(': ')[1]\n",
    "        elif line.startswith('google_cse:'):\n",
    "            google_cse_id = line.strip().split(': ')[1]\n",
    "\n",
    "# Check if the keys were found and set them as environment variables\n",
    "if google_api_key and google_cse_id:\n",
    "    os.environ[\"GOOGLE_API_KEY\"] = google_api_key\n",
    "    os.environ[\"GOOGLE_CSE_ID\"] = google_cse_id\n",
    "    print(\"Environment variables set successfully.\")\n",
    "else:\n",
    "    print(\"Failed to find required API keys in the file.\")"
   ]
  },
  {
   "cell_type": "code",
   "execution_count": 3,
   "metadata": {},
   "outputs": [],
   "source": [
    "llm = OpenAI(model=\"gpt-3.5-turbo-instruct\", temperature=0)"
   ]
  },
  {
   "cell_type": "code",
   "execution_count": 4,
   "metadata": {},
   "outputs": [],
   "source": [
    "search = GoogleSearchAPIWrapper()\n",
    "\n",
    "prompt = PromptTemplate(\n",
    "    input_variables=[\"query\"],\n",
    "    template=\"Write a summary of the following text: {query}\"\n",
    ")\n",
    "\n",
    "summarize_chain = LLMChain(llm=llm, prompt=prompt)\n",
    "\n",
    "tools = [\n",
    "    Tool(\n",
    "        name=\"Search\",\n",
    "        func=search.run,\n",
    "        description=\"useful for finding information about recent events\"\n",
    "    ),\n",
    "    Tool(\n",
    "       name='Summarizer',\n",
    "       func=summarize_chain.run,\n",
    "       description='useful for summarizing texts'\n",
    "    )\n",
    "]"
   ]
  },
  {
   "cell_type": "code",
   "execution_count": 5,
   "metadata": {},
   "outputs": [],
   "source": [
    "agent = initialize_agent(tools, \n",
    "                         llm, \n",
    "                         agent=AgentType.ZERO_SHOT_REACT_DESCRIPTION, \n",
    "                         verbose=True,\n",
    "                         max_iterations=6)"
   ]
  },
  {
   "cell_type": "code",
   "execution_count": 8,
   "metadata": {},
   "outputs": [
    {
     "name": "stdout",
     "output_type": "stream",
     "text": [
      "\n",
      "\n",
      "\u001b[1m> Entering new  chain...\u001b[0m\n",
      "\u001b[32;1m\u001b[1;3m I should use the Search tool to find recent news articles about the Mars rover.\n",
      "Action: Search\n",
      "Action Input: \"Mars rover news\"\u001b[0m\n",
      "An error occurred while making the HTTP request. Please try again later.\n"
     ]
    }
   ],
   "source": [
    "from googleapiclient.errors import HttpError\n",
    "\n",
    "try:\n",
    "    response = agent(\"What's the latest news about the Mars rover?\")\n",
    "    print(response['output'])\n",
    "except HttpError:\n",
    "    print(\"\\nAn error occurred while making the HTTP request. Please try again later.\")"
   ]
  }
 ],
 "metadata": {
  "kernelspec": {
   "display_name": "venvLangChain",
   "language": "python",
   "name": "venv"
  },
  "language_info": {
   "codemirror_mode": {
    "name": "ipython",
    "version": 3
   },
   "file_extension": ".py",
   "mimetype": "text/x-python",
   "name": "python",
   "nbconvert_exporter": "python",
   "pygments_lexer": "ipython3",
   "version": "3.10.12"
  }
 },
 "nbformat": 4,
 "nbformat_minor": 2
}
